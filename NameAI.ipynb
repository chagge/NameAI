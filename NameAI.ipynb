{
 "cells": [
  {
   "cell_type": "code",
   "execution_count": null,
   "metadata": {
    "collapsed": false
   },
   "outputs": [],
   "source": [
    "import os\n",
    "from keras.models import Sequential\n",
    "from keras.layers import Dense, Embedding, Activation, Dropout\n",
    "from keras.layers import GRU\n",
    "from keras.regularizers import l2, activity_l2\n",
    "\n",
    "from keras.optimizers import RMSprop\n",
    "from keras.utils.data_utils import get_file\n",
    "from IPython.display import clear_output\n",
    "import numpy as np\n",
    "import math\n",
    "from datetime import datetime\n",
    "import time\n",
    "import random\n",
    "import sys\n",
    "import string\n",
    "import h5py"
   ]
  },
  {
   "cell_type": "code",
   "execution_count": null,
   "metadata": {
    "collapsed": true
   },
   "outputs": [],
   "source": [
    "seed = 80085\n",
    "np.random.seed(seed)\n",
    "random.seed(seed)"
   ]
  },
  {
   "cell_type": "code",
   "execution_count": null,
   "metadata": {
    "collapsed": false,
    "scrolled": true
   },
   "outputs": [],
   "source": [
    "mask = '_'\n",
    "chars = None\n",
    "with open('./domains.txt') as handle:\n",
    "    text = handle.read().lower()[:-1]\n",
    "    chars = sorted(list(set(text + mask)))\n",
    "    print 'corpus length:', len(text)\n",
    "    \n",
    "weights_path = './model.hdf5'\n",
    "print 'total chars:', len(chars)\n",
    "char_indices = dict((c, i) for i, c in enumerate(chars))\n",
    "indices_char = dict((i, c) for i, c in enumerate(chars))"
   ]
  },
  {
   "cell_type": "code",
   "execution_count": null,
   "metadata": {
    "collapsed": false
   },
   "outputs": [],
   "source": [
    "def pad_name(name, max_length, skip = 0):\n",
    "    padded_name = mask * (max_length - len(name) - skip)\n",
    "    padded_name += name\n",
    "    \n",
    "    return padded_name"
   ]
  },
  {
   "cell_type": "code",
   "execution_count": null,
   "metadata": {
    "collapsed": false
   },
   "outputs": [],
   "source": [
    "# cut the text in semi-redundant sequences of maxlen characters\n",
    "maxlen = 3\n",
    "domains = []\n",
    "next_chars = []\n",
    "maxlen2 = 0\n",
    "with open('./domains.txt', 'r') as handle:\n",
    "    for line in handle:\n",
    "        line = line.strip()\n",
    "        maxlen2 = max(maxlen2, len(line))\n",
    "        \n",
    "step = 1\n",
    "batch_size = maxlen2 * 100\n",
    "with open('./domains.txt', 'r') as handle:\n",
    "    padded_names = \"\"\n",
    "    for line in handle:\n",
    "        line = line.strip()                    \n",
    "        padded_names += pad_name(line, maxlen2)\n",
    "\n",
    "for i in range(0, len(padded_names) - maxlen, step):\n",
    "    domains.append(padded_names[i: i + maxlen])\n",
    "    next_chars.append(padded_names[i + maxlen])\n",
    "\n",
    "for i in range(0, maxlen2*2):\n",
    "    print \"%s -> %s\" % (domains[i], next_chars[i])\n",
    "\n",
    "print 'nb sequences:', len(domains), len(next_chars)\n",
    "print \"batch size: %d maxlen2: %d\" % (batch_size, maxlen2)"
   ]
  },
  {
   "cell_type": "code",
   "execution_count": null,
   "metadata": {
    "collapsed": false
   },
   "outputs": [],
   "source": [
    "print('Vectorization...')\n",
    "X = np.zeros((len(domains), maxlen, len(chars)), dtype=np.bool)\n",
    "y = np.zeros((len(domains), len(chars)), dtype=np.bool)\n",
    "for i, domain in enumerate(domains):\n",
    "    for t, char in enumerate(domain):\n",
    "        X[i, t, char_indices[char]] = 1\n",
    "    y[i, char_indices[next_chars[i]]] = 1"
   ]
  },
  {
   "cell_type": "code",
   "execution_count": null,
   "metadata": {
    "collapsed": false
   },
   "outputs": [],
   "source": [
    "print('Build model...')\n",
    "model = Sequential()\n",
    "model.add(GRU(128, dropout_W=0.015, dropout_U=0.015, input_shape=(maxlen, len(chars)), return_sequences=False, stateful=False))\n",
    "\n",
    "#for a hidden layer, uncomment this one\n",
    "#model.add(GRU(128, dropout_W=0.015, dropout_U=0.015, return_sequences=False, stateful=False))\n",
    "model.add(Dense(len(chars)))\n",
    "model.add(Activation('softmax'))\n",
    "\n",
    "optimizer = RMSprop(lr=0.01)\n",
    "model.compile(loss='categorical_crossentropy', optimizer=optimizer)"
   ]
  },
  {
   "cell_type": "code",
   "execution_count": null,
   "metadata": {
    "collapsed": true
   },
   "outputs": [],
   "source": [
    "def sample(preds, temperature=1.0):\n",
    "    # helper function to sample an index from a probability array\n",
    "    preds = np.asarray(preds).astype('float64')\n",
    "    preds = np.log(preds) / temperature\n",
    "    exp_preds = np.exp(preds)\n",
    "    preds = exp_preds / np.sum(exp_preds)\n",
    "    probas = np.random.multinomial(1, preds, 1)\n",
    "    return np.argmax(probas)"
   ]
  },
  {
   "cell_type": "code",
   "execution_count": null,
   "metadata": {
    "collapsed": false
   },
   "outputs": [],
   "source": [
    "if os.path.exists(weights_path):\n",
    "    print \"loading existing model and set a new seed for random numbers..\"\n",
    "    random.seed()\n",
    "    np.random.seed()\n",
    "    model.load_weights(weights_path)"
   ]
  },
  {
   "cell_type": "code",
   "execution_count": null,
   "metadata": {
    "collapsed": false,
    "scrolled": true
   },
   "outputs": [],
   "source": [
    "def generate_alphabet_names():\n",
    "    seeds = string.ascii_lowercase\n",
    "    generate_names_amount = len(seeds)\n",
    "    diversity = random.uniform(0.05, 0.5)\n",
    "\n",
    "    print \"Name AI by Peter Willemsen <peter@codebuffet.co>\\nCreating %d names with diversity %f\" % (generate_names_amount, diversity)\n",
    "    for i in range(0, generate_names_amount):\n",
    "        seed = pad_name(seeds[i], maxlen)\n",
    "        sentence = seed\n",
    "        generated = seed\n",
    "        domains = generated\n",
    "\n",
    "        for i in range(maxlen2 * 1):\n",
    "            x = np.zeros((1, maxlen, len(chars)))\n",
    "            for t, char in enumerate(sentence):\n",
    "                x[0, t, char_indices[char]] = 1.\n",
    "\n",
    "            preds = model.predict(x, verbose=0)[0]\n",
    "            next_index = sample(preds, diversity)\n",
    "            next_char = indices_char[next_index]\n",
    "\n",
    "            generated += next_char\n",
    "            sentence = sentence[1:] + next_char\n",
    "\n",
    "            domains += next_char\n",
    "        print domains.replace(\"_\", \"\")"
   ]
  },
  {
   "cell_type": "code",
   "execution_count": null,
   "metadata": {
    "collapsed": false,
    "scrolled": false
   },
   "outputs": [],
   "source": [
    "# train the model, output generated text after each iteration\n",
    "iteration = 0\n",
    "while True:\n",
    "    print 'Iteration', iteration\n",
    "    model.fit(X, y, batch_size=batch_size, shuffle=False, nb_epoch=1, verbose=1)\n",
    "    model.save_weights(weights_path, overwrite=True)\n",
    "    clear_output()    \n",
    "    generate_alphabet_names()      \n",
    "        \n",
    "    iteration += 1"
   ]
  },
  {
   "cell_type": "code",
   "execution_count": null,
   "metadata": {
    "collapsed": true
   },
   "outputs": [],
   "source": [
    "generate_alphabet_names()"
   ]
  }
 ],
 "metadata": {
  "kernelspec": {
   "display_name": "Python 2",
   "language": "python",
   "name": "python2"
  },
  "language_info": {
   "codemirror_mode": {
    "name": "ipython",
    "version": 2
   },
   "file_extension": ".py",
   "mimetype": "text/x-python",
   "name": "python",
   "nbconvert_exporter": "python",
   "pygments_lexer": "ipython2",
   "version": "2.7.12"
  }
 },
 "nbformat": 4,
 "nbformat_minor": 2
}
